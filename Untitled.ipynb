{
 "cells": [
  {
   "cell_type": "code",
   "execution_count": 3,
   "metadata": {},
   "outputs": [
    {
     "name": "stdout",
     "output_type": "stream",
     "text": [
      "Collecting dotenv\n",
      "  Using cached dotenv-0.0.5.tar.gz (2.4 kB)\n"
     ]
    },
    {
     "name": "stderr",
     "output_type": "stream",
     "text": [
      "    ERROR: Command errored out with exit status 1:\n",
      "     command: 'C:\\Users\\91812\\anaconda3\\python.exe' -c 'import sys, setuptools, tokenize; sys.argv[0] = '\"'\"'C:\\\\Users\\\\91812\\\\AppData\\\\Local\\\\Temp\\\\pip-install-yq75ufhl\\\\dotenv\\\\setup.py'\"'\"'; __file__='\"'\"'C:\\\\Users\\\\91812\\\\AppData\\\\Local\\\\Temp\\\\pip-install-yq75ufhl\\\\dotenv\\\\setup.py'\"'\"';f=getattr(tokenize, '\"'\"'open'\"'\"', open)(__file__);code=f.read().replace('\"'\"'\\r\\n'\"'\"', '\"'\"'\\n'\"'\"');f.close();exec(compile(code, __file__, '\"'\"'exec'\"'\"'))' egg_info --egg-base 'C:\\Users\\91812\\AppData\\Local\\Temp\\pip-pip-egg-info-sr2vpzqw'\n",
      "         cwd: C:\\Users\\91812\\AppData\\Local\\Temp\\pip-install-yq75ufhl\\dotenv\\\n",
      "    Complete output (51 lines):\n",
      "        ERROR: Command errored out with exit status 1:\n",
      "         command: 'C:\\Users\\91812\\anaconda3\\python.exe' -c 'import sys, setuptools, tokenize; sys.argv[0] = '\"'\"'C:\\\\Users\\\\91812\\\\AppData\\\\Local\\\\Temp\\\\pip-wheel-bzqots55\\\\distribute\\\\setup.py'\"'\"'; __file__='\"'\"'C:\\\\Users\\\\91812\\\\AppData\\\\Local\\\\Temp\\\\pip-wheel-bzqots55\\\\distribute\\\\setup.py'\"'\"';f=getattr(tokenize, '\"'\"'open'\"'\"', open)(__file__);code=f.read().replace('\"'\"'\\r\\n'\"'\"', '\"'\"'\\n'\"'\"');f.close();exec(compile(code, __file__, '\"'\"'exec'\"'\"'))' egg_info --egg-base 'C:\\Users\\91812\\AppData\\Local\\Temp\\pip-pip-egg-info-8l4z4spx'\n",
      "             cwd: C:\\Users\\91812\\AppData\\Local\\Temp\\pip-wheel-bzqots55\\distribute\\\n",
      "        Complete output (15 lines):\n",
      "        Traceback (most recent call last):\n",
      "          File \"<string>\", line 1, in <module>\n",
      "          File \"C:\\Users\\91812\\AppData\\Local\\Temp\\pip-wheel-bzqots55\\distribute\\setuptools\\__init__.py\", line 2, in <module>\n",
      "            from setuptools.extension import Extension, Library\n",
      "          File \"C:\\Users\\91812\\AppData\\Local\\Temp\\pip-wheel-bzqots55\\distribute\\setuptools\\extension.py\", line 5, in <module>\n",
      "            from setuptools.dist import _get_unpatched\n",
      "          File \"C:\\Users\\91812\\AppData\\Local\\Temp\\pip-wheel-bzqots55\\distribute\\setuptools\\dist.py\", line 7, in <module>\n",
      "            from setuptools.command.install import install\n",
      "          File \"C:\\Users\\91812\\AppData\\Local\\Temp\\pip-wheel-bzqots55\\distribute\\setuptools\\command\\__init__.py\", line 8, in <module>\n",
      "            from setuptools.command import install_scripts\n",
      "          File \"C:\\Users\\91812\\AppData\\Local\\Temp\\pip-wheel-bzqots55\\distribute\\setuptools\\command\\install_scripts.py\", line 3, in <module>\n",
      "            from pkg_resources import Distribution, PathMetadata, ensure_directory\n",
      "          File \"C:\\Users\\91812\\AppData\\Local\\Temp\\pip-wheel-bzqots55\\distribute\\pkg_resources.py\", line 1518, in <module>\n",
      "            register_loader_type(importlib_bootstrap.SourceFileLoader, DefaultProvider)\n",
      "        AttributeError: module 'importlib._bootstrap' has no attribute 'SourceFileLoader'\n",
      "        ----------------------------------------\n",
      "    ERROR: Command errored out with exit status 1: python setup.py egg_info Check the logs for full command output.\n",
      "    Traceback (most recent call last):\n",
      "      File \"C:\\Users\\91812\\anaconda3\\lib\\site-packages\\setuptools\\installer.py\", line 126, in fetch_build_egg\n",
      "        subprocess.check_call(cmd)\n",
      "      File \"C:\\Users\\91812\\anaconda3\\lib\\subprocess.py\", line 364, in check_call\n",
      "        raise CalledProcessError(retcode, cmd)\n",
      "    subprocess.CalledProcessError: Command '['C:\\\\Users\\\\91812\\\\anaconda3\\\\python.exe', '-m', 'pip', '--disable-pip-version-check', 'wheel', '--no-deps', '-w', 'C:\\\\Users\\\\91812\\\\AppData\\\\Local\\\\Temp\\\\tmp1s7gf1lc', '--quiet', 'distribute']' returned non-zero exit status 1.\n",
      "    \n",
      "    The above exception was the direct cause of the following exception:\n",
      "    \n",
      "    Traceback (most recent call last):\n",
      "      File \"<string>\", line 1, in <module>\n",
      "      File \"C:\\Users\\91812\\AppData\\Local\\Temp\\pip-install-yq75ufhl\\dotenv\\setup.py\", line 13, in <module>\n",
      "        setup(name='dotenv',\n",
      "      File \"C:\\Users\\91812\\anaconda3\\lib\\site-packages\\setuptools\\__init__.py\", line 152, in setup\n",
      "        _install_setup_requires(attrs)\n",
      "      File \"C:\\Users\\91812\\anaconda3\\lib\\site-packages\\setuptools\\__init__.py\", line 147, in _install_setup_requires\n",
      "        dist.fetch_build_eggs(dist.setup_requires)\n",
      "      File \"C:\\Users\\91812\\anaconda3\\lib\\site-packages\\setuptools\\dist.py\", line 673, in fetch_build_eggs\n",
      "        resolved_dists = pkg_resources.working_set.resolve(\n",
      "      File \"C:\\Users\\91812\\anaconda3\\lib\\site-packages\\pkg_resources\\__init__.py\", line 764, in resolve\n",
      "        dist = best[req.key] = env.best_match(\n",
      "      File \"C:\\Users\\91812\\anaconda3\\lib\\site-packages\\pkg_resources\\__init__.py\", line 1049, in best_match\n",
      "        return self.obtain(req, installer)\n",
      "      File \"C:\\Users\\91812\\anaconda3\\lib\\site-packages\\pkg_resources\\__init__.py\", line 1061, in obtain\n",
      "        return installer(requirement)\n",
      "      File \"C:\\Users\\91812\\anaconda3\\lib\\site-packages\\setuptools\\dist.py\", line 732, in fetch_build_egg\n",
      "        return fetch_build_egg(self, req)\n",
      "      File \"C:\\Users\\91812\\anaconda3\\lib\\site-packages\\setuptools\\installer.py\", line 128, in fetch_build_egg\n",
      "        raise DistutilsError(str(e)) from e\n",
      "    distutils.errors.DistutilsError: Command '['C:\\\\Users\\\\91812\\\\anaconda3\\\\python.exe', '-m', 'pip', '--disable-pip-version-check', 'wheel', '--no-deps', '-w', 'C:\\\\Users\\\\91812\\\\AppData\\\\Local\\\\Temp\\\\tmp1s7gf1lc', '--quiet', 'distribute']' returned non-zero exit status 1.\n",
      "    ----------------------------------------\n",
      "ERROR: Command errored out with exit status 1: python setup.py egg_info Check the logs for full command output.\n"
     ]
    }
   ],
   "source": [
    "!pip install dotenv"
   ]
  },
  {
   "cell_type": "code",
   "execution_count": 1,
   "metadata": {},
   "outputs": [
    {
     "name": "stderr",
     "output_type": "stream",
     "text": [
      "C:\\Users\\91812\\anaconda3\\lib\\site-packages\\pandas\\core\\computation\\expressions.py:20: UserWarning: Pandas requires version '2.7.3' or newer of 'numexpr' (version '2.7.1' currently installed).\n",
      "  from pandas.core.computation.check import NUMEXPR_INSTALLED\n"
     ]
    },
    {
     "ename": "ModuleNotFoundError",
     "evalue": "No module named 'dotenv'",
     "output_type": "error",
     "traceback": [
      "\u001b[1;31m---------------------------------------------------------------------------\u001b[0m",
      "\u001b[1;31mModuleNotFoundError\u001b[0m                       Traceback (most recent call last)",
      "\u001b[1;32m<ipython-input-1-8f95abc25a6f>\u001b[0m in \u001b[0;36m<module>\u001b[1;34m\u001b[0m\n\u001b[0;32m      3\u001b[0m \u001b[1;32mimport\u001b[0m \u001b[0mos\u001b[0m\u001b[1;33m\u001b[0m\u001b[1;33m\u001b[0m\u001b[0m\n\u001b[0;32m      4\u001b[0m \u001b[1;32mimport\u001b[0m \u001b[0mtime\u001b[0m\u001b[1;33m\u001b[0m\u001b[1;33m\u001b[0m\u001b[0m\n\u001b[1;32m----> 5\u001b[1;33m \u001b[1;32mfrom\u001b[0m \u001b[0mdotenv\u001b[0m \u001b[1;32mimport\u001b[0m \u001b[0mload_dotenv\u001b[0m\u001b[1;33m\u001b[0m\u001b[1;33m\u001b[0m\u001b[0m\n\u001b[0m\u001b[0;32m      6\u001b[0m \u001b[1;32mimport\u001b[0m \u001b[0mmatplotlib\u001b[0m\u001b[1;33m.\u001b[0m\u001b[0mpyplot\u001b[0m \u001b[1;32mas\u001b[0m \u001b[0mplt\u001b[0m\u001b[1;33m\u001b[0m\u001b[1;33m\u001b[0m\u001b[0m\n\u001b[0;32m      7\u001b[0m \u001b[1;32mfrom\u001b[0m \u001b[0mstatsmodels\u001b[0m\u001b[1;33m.\u001b[0m\u001b[0mgraphics\u001b[0m\u001b[1;33m.\u001b[0m\u001b[0mtsaplots\u001b[0m \u001b[1;32mimport\u001b[0m \u001b[0mplot_pacf\u001b[0m\u001b[1;33m,\u001b[0m\u001b[0mplot_acf\u001b[0m\u001b[1;33m\u001b[0m\u001b[1;33m\u001b[0m\u001b[0m\n",
      "\u001b[1;31mModuleNotFoundError\u001b[0m: No module named 'dotenv'"
     ]
    }
   ],
   "source": [
    "import pandas as pd\n",
    "import numpy as np\n",
    "import os\n",
    "import time\n",
    "from dotenv import load_dotenv\n",
    "import matplotlib.pyplot as plt\n",
    "from statsmodels.graphics.tsaplots import plot_pacf,plot_acf\n",
    "from sklearn.metrics import mean_squared_error, mean_absolute_error\n",
    "import tensorflow as tf\n",
    "from pmdarima import auto_arima\n",
    "from statsmodels.tsa.arima.model import ARIMA"
   ]
  },
  {
   "cell_type": "code",
   "execution_count": null,
   "metadata": {},
   "outputs": [],
   "source": []
  }
 ],
 "metadata": {
  "kernelspec": {
   "display_name": "Python 3",
   "language": "python",
   "name": "python3"
  },
  "language_info": {
   "codemirror_mode": {
    "name": "ipython",
    "version": 3
   },
   "file_extension": ".py",
   "mimetype": "text/x-python",
   "name": "python",
   "nbconvert_exporter": "python",
   "pygments_lexer": "ipython3",
   "version": "3.8.5"
  }
 },
 "nbformat": 4,
 "nbformat_minor": 4
}
